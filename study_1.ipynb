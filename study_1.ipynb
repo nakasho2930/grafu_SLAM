{
 "cells": [
  {
   "cell_type": "code",
   "execution_count": 62,
   "metadata": {},
   "outputs": [],
   "source": [
    "#必要情報をインポートする\n",
    "\"\"\"\n",
    "\n",
    "Graph based SLAM example\n",
    "\n",
    "author: Atsushi Sakai (@Atsushi_twi)\n",
    "\n",
    "Ref\n",
    "\n",
    "[A Tutorial on Graph-Based SLAM]\n",
    "(http://www2.informatik.uni-freiburg.de/~stachnis/pdf/grisetti10titsmag.pdf)\n",
    "\n",
    "\"\"\"\n",
    "\n",
    "import copy\n",
    "import itertools\n",
    "import math\n",
    "\n",
    "import matplotlib.pyplot as plt\n",
    "import numpy as np\n",
    "from scipy.spatial.transform import Rotation as Rot"
   ]
  },
  {
   "cell_type": "code",
   "execution_count": 63,
   "metadata": {},
   "outputs": [],
   "source": [
    "#  Simulation parameter\n",
    "# diag : 対角行列の生成  https://note.nkmk.me/python-numpy-diag-diagonal/\n",
    "Q_sim = np.diag([0.2, np.deg2rad(1.0)]) ** 2\n",
    "R_sim = np.diag([0.1, np.deg2rad(10.0)]) ** 2\n",
    "\n",
    "\n",
    "DT = 2.0  # time tick [s]　シミュレーション刻み\n",
    "SIM_TIME = 100.0  # simulation time [s]\n",
    "MAX_RANGE = 30.0  # maximum observation range\n",
    "STATE_SIZE = 3  # State size [x,y,yaw]\n",
    "\n",
    "# Covariance parameter of Graph Based SLAM\n",
    "C_SIGMA1 = 0.1\n",
    "C_SIGMA2 = 0.1\n",
    "C_SIGMA3 = np.deg2rad(1.0)\n",
    "\n",
    "MAX_ITR = 20  # Maximum iteration\n",
    "\n",
    "show_graph_d_time = 20.0  # [s]\n",
    "show_animation = True"
   ]
  },
  {
   "cell_type": "code",
   "execution_count": 64,
   "metadata": {},
   "outputs": [],
   "source": [
    "#エッジのクラス生成　ノード間をつなぐもの\n",
    "#1,2 があるのはおそらく始点と終点を指定するもの\n",
    "\n",
    "class Edge:\n",
    "\n",
    "    def __init__(self):\n",
    "        #位置　x,y,w\n",
    "        self.e = np.zeros((3, 1))\n",
    "        \"\"\"\n",
    "        array([[0.],\n",
    "               [0.],\n",
    "               [0.]])\n",
    "        \"\"\"\n",
    "        #精度行列\n",
    "        self.omega = np.zeros((3, 3))  # information matrix\n",
    "        \"\"\"\n",
    "        array([[0., 0., 0.],\n",
    "               [0., 0., 0.],\n",
    "               [0., 0., 0.]])\n",
    "        \"\"\"\n",
    "        self.d1 = 0.0\n",
    "        self.d2 = 0.0\n",
    "        self.yaw1 = 0.0\n",
    "        self.yaw2 = 0.0\n",
    "        self.angle1 = 0.0\n",
    "        self.angle2 = 0.0\n",
    "        self.id1 = 0\n",
    "        self.id2 = 0\n",
    "\n"
   ]
  },
  {
   "cell_type": "code",
   "execution_count": 65,
   "metadata": {},
   "outputs": [],
   "source": [
    "def cal_observation_sigma():\n",
    "    sigma = np.zeros((3, 3))\n",
    "    sigma[0, 0] = C_SIGMA1 ** 2\n",
    "    sigma[1, 1] = C_SIGMA2 ** 2\n",
    "    sigma[2, 2] = C_SIGMA3 ** 2\n",
    "    \"\"\"\n",
    "    array([[0.01      , 0.        , 0.        ],\n",
    "           [0.        , 0.01      , 0.        ],\n",
    "           [0.        , 0.        , 0.00030462]])\n",
    "    \"\"\"\n",
    "    \n",
    "    return sigma"
   ]
  },
  {
   "cell_type": "code",
   "execution_count": 66,
   "metadata": {},
   "outputs": [],
   "source": [
    "#xyの回転行列　ｗは変化なし\n",
    "def calc_rotational_matrix(angle):\n",
    "    \n",
    "    \"\"\"\n",
    "    Rt = np.matrix([[math.cos(angle), -math.sin(angle), 0],\n",
    "                    [math.sin(angle), math.cos(angle), 0],\n",
    "                    [0, 0, 1.0]])\n",
    "    \"\"\"\n",
    "    \n",
    "    return Rot.from_euler('z', angle).as_matrix()\n"
   ]
  },
  {
   "cell_type": "code",
   "execution_count": 87,
   "metadata": {
    "scrolled": true
   },
   "outputs": [],
   "source": [
    "#エッジの計算　単体\n",
    "#x1, y1, yaw1　一つ目の位置オドメドリ　絶対座標\n",
    "#x2, y2, yaw2　二つ目の位置オドメドリ　絶対座標\n",
    "#ここから下は同じランドマークを見た場合に限る\n",
    "#d1 angle1 : 同じランドマークを一つのオドメドリから見たランドマーク情報　距離　角度差（相対）\n",
    "#d2 angle2 : 同じランドマークを2つのオドメドリから見たランドマーク情報　距離　角度差（相対）\n",
    "#t1 一つ目のオドメドリの全体の配列内で何番目か\n",
    "#t2 二つ目のオドメドリの全体の配列内で何番目か\n",
    "\n",
    "def calc_edge(x1, y1, yaw1, x2, y2, yaw2, d1,\n",
    "              angle1, d2, angle2, t1, t2):\n",
    "    #エッジのクラス生成\n",
    "    edge = Edge()\n",
    "    #tangle1: オドメドリ角度(絶対角度)　+　角度差(相対角度)　＝　ランドマークの絶対角度（推定　誤差あり）\n",
    "    #tangle2: オドメドリ角度(絶対角度)　+　角度差(相対角度)　＝　ランドマークの絶対角度（推定　誤差あり）\n",
    "    tangle1 = pi_2_pi(yaw1 + angle1)\n",
    "    tangle2 = pi_2_pi(yaw2 + angle2)\n",
    "    \n",
    "    #機台の向いている方向をX軸とした相対座標系において\n",
    "    #tmp1：1つ目のオドメドリとランドマークのX成分\n",
    "    tmp1 = d1 * math.cos(tangle1)\n",
    "    #tmp2：2つ目のオドメドリとランドマークのX成分\n",
    "    tmp2 = d2 * math.cos(tangle2)\n",
    "    #tmp1：1つ目のオドメドリとランドマークのY成分\n",
    "    tmp3 = d1 * math.sin(tangle1)\n",
    "    #tmp1：2つ目のオドメドリとランドマークのY成分\n",
    "    tmp4 = d2 * math.sin(tangle2)\n",
    "    \n",
    "    \n",
    "    #エッジの誤差成分計算\n",
    "    #    x \n",
    "    #e = y\n",
    "    #    w\n",
    "    \n",
    "    #x2 - x1　　　　　両オドメドリの間のX軸上の距離\n",
    "    #- tmp1 + tmp2　　同じランドマークから計算したX軸成分\n",
    "    #もし誤差がないならば　　x2 - x1 - tmp1 + tmp2　＝　0\n",
    "    #ちなみに絶対軸上での話\n",
    "    edge.e[0, 0] = x2 - x1 - tmp1 + tmp2\n",
    "    edge.e[1, 0] = y2 - y1 - tmp3 + tmp4\n",
    "    #X,Y軸での話のため　角度は定義しない(厳密にいうとある？？)\n",
    "    edge.e[2, 0] = 0\n",
    "\n",
    "    #calc_rotational_matrix：　xyの回転行列　ｗは変化なし\n",
    "    #オドメドリt1から見たランドマークの絶対角度の回転行列\n",
    "    Rt1 = calc_rotational_matrix(tangle1)\n",
    "    #オドメドリt2から見たランドマークの絶対角度の回転行列\n",
    "    Rt2 = calc_rotational_matrix(tangle2)\n",
    "    \n",
    "    sig1 = cal_observation_sigma()\n",
    "    sig2 = cal_observation_sigma()\n",
    "    \n",
    "    \"\"\"\n",
    "                                        array([[0.01      , 0.        , 0.        ],\n",
    "    cal_observation_sigma()　 =　　　　　　   [0.        , 0.01      , 0.        ],\n",
    "                                              [0.        , 0.        , 0.00030462]])\n",
    "\n",
    "    \"\"\"\n",
    "    #行列の関算\n",
    "    \"\"\"\n",
    "\n",
    "       Rt =     matrix([[11, 12, 13],\n",
    "                        [21, 22, 23],\n",
    "                        [31, 32, 33]])\n",
    "\n",
    "       Rt.T =   matrix([[11, 21, 31],\n",
    "                       [12, 22, 32],\n",
    "                       [13, 23, 33]])\n",
    "\n",
    "    \"\"\"\n",
    "    \"\"\"\n",
    "    #ここで重要なのは　Rt1 と　Rt2  ここの角度が大事\n",
    "    #計算結果の逆両列が　精度行列　　その前は共分散行列\n",
    "    \"\"\"\n",
    "    edge.omega = np.linalg.inv(Rt1 @ sig1 @ Rt1.T + Rt2 @ sig2 @ Rt2.T)\n",
    "    \n",
    "    #残りはそのまま\n",
    "    edge.d1, edge.d2 = d1, d2\n",
    "    edge.yaw1, edge.yaw2 = yaw1, yaw2\n",
    "    edge.angle1, edge.angle2 = angle1, angle2\n",
    "    edge.id1, edge.id2 = t1, t2\n",
    "\n",
    "    return edge"
   ]
  },
  {
   "cell_type": "code",
   "execution_count": 68,
   "metadata": {},
   "outputs": [],
   "source": [
    "#すべてのエッジを計算\n",
    "\"\"\"\n",
    "引数：オドメドリ　x_list　\n",
    "   ランドマーク　　z_list\n",
    "\"\"\"\n",
    "def calc_edges(x_list, z_list):\n",
    "    #エッジの宣言\n",
    "    edges = []\n",
    "    #コストの変数宣言\n",
    "    cost = 0.0\n",
    "#itertools.combinations(iterable, r)\n",
    "#入力 iterable の要素からなる長さ r の部分列を返します。 https://docs.python.org/ja/3/library/itertools.html#itertools.combinations\n",
    "    z_ids = list(itertools.combinations(range(len(z_list)), 2))\n",
    "\n",
    "    \"\"\"\n",
    "    10\n",
    "range(0, 10)\n",
    "<itertools.combinations object at 0x0000021905A85598>\n",
    "[(0, 1), (0, 2), (0, 3), (0, 4), (0, 5), (0, 6), (0, 7), (0, 8), (0, 9), \n",
    "(1, 2), (1, 3), (1, 4), (1, 5), (1, 6), (1, 7), (1, 8), (1, 9), \n",
    "(2, 3), (2, 4), (2, 5), (2, 6), (2, 7), (2, 8), (2, 9), \n",
    "(3, 4), (3, 5), (3, 6), (3, 7), (3, 8), (3, 9), \n",
    "(4, 5), (4, 6), (4, 7), (4, 8), (4, 9), \n",
    "(5, 6), (5, 7), (5, 8), (5, 9), \n",
    "(6, 7), (6, 8), (6, 9), \n",
    "(7, 8), (7, 9), \n",
    "(8, 9)]\n",
    "    \"\"\"\n",
    "    \n",
    "    for (t1, t2) in z_ids:\n",
    "        #X_list  オドメドリ（誤差あり）\n",
    "        #10個のオドメドリの組み合わせ（重複なし）\n",
    "        x1, y1, yaw1 = x_list[0, t1], x_list[1, t1], x_list[2, t1]\n",
    "        x2, y2, yaw2 = x_list[0, t2], x_list[1, t2], x_list[2, t2]\n",
    "        \n",
    "        #ランドマーク情報がない場合、何もしない。\n",
    "        if z_list[t1] is None or z_list[t2] is None:\n",
    "            continue  # No observation\n",
    "        #ランドマークがある場合\n",
    "        \"\"\"\n",
    "         ランドマーク情報(dn:機台かランドマークまでの距離, 　　　　　　0\n",
    "                         angle：機台角度とランドマークの角度の角度差, 　1\n",
    "                         phi:機台から見たランドマークの角度　　　　　　2\n",
    "                         i:何番目のランドマークか)　　　　　　　　　　　3　　　\n",
    "        \"\"\"\n",
    "        #dn:機台かランドマークまでの距離　ここマジ大事\n",
    "        #[:, 0]行がある限り表示　表示するのは0列目　　補足[0,:] 列がある限り表示　表示するのは0行目\n",
    "        #len(z_list[t1][:, 0]　　t1番目の位置で見えた欄マークの数\n",
    "        for iz1 in range(len(z_list[t1][:, 0])):\n",
    "            #len(z_list[t2][:, 0]　　t2番目の位置で見えた欄マークの数\n",
    "            for iz2 in range(len(z_list[t2][:, 0])):\n",
    "                #もし　t1 番目の位置で見えたiz1 番目のランドマークのIDが　\n",
    "                #　　　t2 番目の位置で見えたiz2番目のランドマークのIDと同じならば\n",
    "                if z_list[t1][iz1, 3] == z_list[t2][iz2, 3]:\n",
    "                    #それぞれのオドメドリから同じランドマークまでの距離、角度差、絶対角度を抽出\n",
    "                    d1 = z_list[t1][iz1, 0]\n",
    "                    angle1, phi1 = z_list[t1][iz1, 1], z_list[t1][iz1, 2]\n",
    "                    d2 = z_list[t2][iz2, 0]\n",
    "                    angle2, phi2 = z_list[t2][iz2, 1], z_list[t2][iz2, 2]\n",
    "                    \n",
    "                    #t1 と　t2 のエッジを計算する\n",
    "                    edge = calc_edge(x1, y1, yaw1, x2, y2, yaw2, d1,\n",
    "                                     angle1, d2, angle2, t1, t2)\n",
    "                    #エッジ情報を代入\n",
    "                    edges.append(edge)\n",
    "                    \n",
    "                    #一つでもエッジが更新されたらコスト再計算\n",
    "                    #行列計算　[1*3] @ [3*3] @ [3*1] = [1*1]\n",
    "                    #最終的に一つの値になる\n",
    "                    cost += (edge.e.T @ edge.omega @ edge.e)[0, 0]\n",
    "\n",
    "    print(\"cost:\", cost, \",n_edge:\", len(edges))\n",
    "    return edges"
   ]
  },
  {
   "cell_type": "code",
   "execution_count": 69,
   "metadata": {},
   "outputs": [],
   "source": [
    "#ヤコビ行列の計算\n",
    "def calc_jacobian(edge):\n",
    "    #そのエッジの始点の角度（絶対座標）+　角度さ（相対）　＝　エッジの方向をX軸としたランドマークの角度　t1\n",
    "    t1 = edge.yaw1 + edge.angle1\n",
    "    A = np.array([[-1.0, 0, edge.d1 * math.sin(t1)],\n",
    "                  [0, -1.0, -edge.d1 * math.cos(t1)],\n",
    "                  [0, 0, 0]])\n",
    "\n",
    "    t2 = edge.yaw2 + edge.angle2\n",
    "    B = np.array([[1.0, 0, -edge.d2 * math.sin(t2)],\n",
    "                  [0, 1.0, edge.d2 * math.cos(t2)],\n",
    "                  [0, 0, 0]])\n",
    "\n",
    "    return A, B"
   ]
  },
  {
   "cell_type": "code",
   "execution_count": 70,
   "metadata": {},
   "outputs": [],
   "source": [
    "#おそらく最適化の計算\n",
    "#H,b　不明\n",
    "# edge  各エッジ　1個ずつ\n",
    "def fill_H_and_b(H, b, edge):\n",
    "    #ヤコビ行列\n",
    "    A, B = calc_jacobian(edge)\n",
    "    \n",
    "    id1 = edge.id1 * STATE_SIZE\n",
    "    id2 = edge.id2 * STATE_SIZE\n",
    "\n",
    "    H[id1:id1 + STATE_SIZE, id1:id1 + STATE_SIZE] += A.T @ edge.omega @ A\n",
    "    H[id1:id1 + STATE_SIZE, id2:id2 + STATE_SIZE] += A.T @ edge.omega @ B\n",
    "    H[id2:id2 + STATE_SIZE, id1:id1 + STATE_SIZE] += B.T @ edge.omega @ A\n",
    "    H[id2:id2 + STATE_SIZE, id2:id2 + STATE_SIZE] += B.T @ edge.omega @ B\n",
    "\n",
    "    b[id1:id1 + STATE_SIZE] += (A.T @ edge.omega @ edge.e)\n",
    "    b[id2:id2 + STATE_SIZE] += (B.T @ edge.omega @ edge.e)\n",
    "\n",
    "    return H, b"
   ]
  },
  {
   "cell_type": "code",
   "execution_count": 71,
   "metadata": {},
   "outputs": [],
   "source": [
    "\"\"\"\n",
    " 引数　オドメドリ　\n",
    " ランドマーク情報(dn:機台かランドマークまでの距離, \n",
    "                 angle：機台角度とランドマークの角度の角度差, \n",
    "                 phi:機台から見たランドマークの角度\n",
    "                 i:何番目のランドマークか)\n",
    "\"\"\"\n",
    "def graph_based_slam(x_init, hz):\n",
    "    print(\"start graph based slam\")\n",
    "    \n",
    "    #ランドマークリストをコピー　https://qiita.com/Kaz_K/items/a3d619b9e670e689b6db\n",
    "    #hzが変わっても　Z_listは変わらない。　いわゆる別の変数にして使っている。\n",
    "    z_list = copy.deepcopy(hz)\n",
    "    #位置情報をコピー　上に同じ\n",
    "    x_opt = copy.deepcopy(x_init)\n",
    "    #print(\"debapgu1\",x_opt)\n",
    "    #配列1番目の個数を表示\n",
    "    nt = x_opt.shape[1]\n",
    "    #print(\"debapgu2\",nt)\n",
    "    #その個数に3倍（次元の数だけ）\n",
    "    n = nt * STATE_SIZE\n",
    "    #print(\"debapgu2\",n)\n",
    "    \n",
    "    #最適化処理\n",
    "    # MAX_ITR = 20　　最高計算回数\n",
    "    for itr in range(MAX_ITR):\n",
    "        \"\"\"\n",
    "        引数：オドメドリ\n",
    "        　　　ランドマーク\n",
    "        \"\"\"\n",
    "        edges = calc_edges(x_opt, z_list)\n",
    "        #全エッジを取得\n",
    "        \n",
    "        #[30*30]のゼロ行列\n",
    "        H = np.zeros((n, n))\n",
    "        #[30*1]のゼロ行列\n",
    "        b = np.zeros((n, 1))\n",
    "\n",
    "        for edge in edges:\n",
    "            H, b = fill_H_and_b(H, b, edge)\n",
    "\n",
    "        # to fix origin\n",
    "        H[0:STATE_SIZE, 0:STATE_SIZE] += np.identity(STATE_SIZE)\n",
    "\n",
    "        dx = - np.linalg.inv(H) @ b\n",
    "\n",
    "        for i in range(nt):\n",
    "            x_opt[0:3, i] += dx[i * 3:i * 3 + 3, 0]\n",
    "\n",
    "        diff = dx.T @ dx\n",
    "        print(\"iteration: %d, diff: %f\" % (itr + 1, diff))\n",
    "        #必要な精度いかになったら終了\n",
    "        if diff < 1.0e-5:\n",
    "            break\n",
    "\n",
    "    return x_opt"
   ]
  },
  {
   "cell_type": "code",
   "execution_count": 72,
   "metadata": {},
   "outputs": [],
   "source": [
    "#車両の速度と角度\n",
    "def calc_input():\n",
    "    v = 1.0  # [m/s]\n",
    "    yaw_rate = 0.1  # [rad/s]\n",
    "    u = np.array([[v, yaw_rate]]).T\n",
    "    \"\"\"\n",
    "    array([[1. ],\n",
    "           [0.1]])\n",
    "    \"\"\"\n",
    "    return u"
   ]
  },
  {
   "cell_type": "code",
   "execution_count": 73,
   "metadata": {},
   "outputs": [],
   "source": [
    "#引数：　真値　オドメドリ　車両走行情報　ランドマーク\n",
    "def observation(xTrue, xd, u, RFID):\n",
    "    #真値計算　引き値：　位置　車両走行情報\n",
    "    xTrue = motion_model(xTrue, u)\n",
    "\n",
    "    # add noise to gps x-y\n",
    "    z = np.zeros((0, 4))\n",
    "\n",
    "    for i in range(len(RFID[:, 0])):\n",
    "\n",
    "        dx = RFID[i, 0] - xTrue[0, 0]\n",
    "        dy = RFID[i, 1] - xTrue[1, 0]\n",
    "        d = math.hypot(dx, dy)\n",
    "        angle = pi_2_pi(math.atan2(dy, dx)) - xTrue[2, 0]\n",
    "        phi = pi_2_pi(math.atan2(dy, dx))\n",
    "        if d <= MAX_RANGE:\n",
    "            dn = d + np.random.randn() * Q_sim[0, 0]  # add noise\n",
    "            angle_noise = np.random.randn() * Q_sim[1, 1]\n",
    "            angle += angle_noise\n",
    "            phi += angle_noise\n",
    "            zi = np.array([dn, angle, phi, i])\n",
    "            z = np.vstack((z, zi))\n",
    "\n",
    "    # add noise to input\n",
    "    ud1 = u[0, 0] + np.random.randn() * R_sim[0, 0]\n",
    "    ud2 = u[1, 0] + np.random.randn() * R_sim[1, 1]\n",
    "    ud = np.array([[ud1, ud2]]).T\n",
    "\n",
    "    xd = motion_model(xd, ud)\n",
    "\n",
    "    return xTrue, z, xd, ud"
   ]
  },
  {
   "cell_type": "code",
   "execution_count": 74,
   "metadata": {},
   "outputs": [],
   "source": [
    "#車両の動作モデル　引き値：　位置　車両走行情報\n",
    "def motion_model(x, u):\n",
    "    #3*3　の単位行列\n",
    "    F = np.array([[1.0, 0, 0],\n",
    "                  [0, 1.0, 0],\n",
    "                  [0, 0, 1.0]])\n",
    "    \n",
    "    #車両の位置及び角度情報　シミュレーション刻み：DT\n",
    "    #x[2, 0]　威勢の　角度　[0,0] :x   [1,0]:y\n",
    "    B = np.array([[DT * math.cos(x[2, 0]), 0],\n",
    "                  [DT * math.sin(x[2, 0]), 0],\n",
    "                  [0.0, DT]])\n",
    "\n",
    "    x = F @ x + B @ u\n",
    "\n",
    "    return x"
   ]
  },
  {
   "cell_type": "code",
   "execution_count": 75,
   "metadata": {},
   "outputs": [],
   "source": [
    "def pi_2_pi(angle):\n",
    "    return (angle + math.pi) % (2 * math.pi) - math.pi"
   ]
  },
  {
   "cell_type": "code",
   "execution_count": 76,
   "metadata": {},
   "outputs": [
    {
     "name": "stdout",
     "output_type": "stream",
     "text": [
      "__file__ start!!\n",
      "start graph based slam\n",
      "cost: 7181.072652832521 ,n_edge: 225\n",
      "iteration: 1, diff: 0.678992\n",
      "cost: 38.87373967044607 ,n_edge: 225\n",
      "iteration: 2, diff: 0.006866\n",
      "cost: 37.582910887438516 ,n_edge: 225\n",
      "iteration: 3, diff: 0.000018\n",
      "cost: 37.58289753599207 ,n_edge: 225\n",
      "iteration: 4, diff: 0.000000\n"
     ]
    },
    {
     "data": {
      "image/png": "[encoded data removed]",
      "text/plain": [
       "<Figure size 432x288 with 1 Axes>"
      ]
     },
     "metadata": {
      "needs_background": "light"
     },
     "output_type": "display_data"
    },
    {
     "name": "stdout",
     "output_type": "stream",
     "text": [
      "start graph based slam\n",
      "cost: 218739.68056289328 ,n_edge: 950\n",
      "iteration: 1, diff: 61.407402\n",
      "cost: 732.3495836424883 ,n_edge: 950\n",
      "iteration: 2, diff: 0.460123\n",
      "cost: 132.61095270034699 ,n_edge: 950\n",
      "iteration: 3, diff: 0.002721\n",
      "cost: 132.60535443952293 ,n_edge: 950\n",
      "iteration: 4, diff: 0.000031\n",
      "cost: 132.60534626669306 ,n_edge: 950\n",
      "iteration: 5, diff: 0.000000\n"
     ]
    },
    {
     "data": {
      "image/png": "[encoded data removed]",
      "text/plain": [
       "<Figure size 432x288 with 1 Axes>"
      ]
     },
     "metadata": {
      "needs_background": "light"
     },
     "output_type": "display_data"
    },
    {
     "name": "stdout",
     "output_type": "stream",
     "text": [
      "start graph based slam\n",
      "cost: 565741.407432094 ,n_edge: 2175\n",
      "iteration: 1, diff: 211.856667\n",
      "cost: 1563.3867097375146 ,n_edge: 2175\n",
      "iteration: 2, diff: 0.329436\n",
      "cost: 285.48020487354535 ,n_edge: 2175\n",
      "iteration: 3, diff: 0.000430\n",
      "cost: 285.4799365111902 ,n_edge: 2175\n",
      "iteration: 4, diff: 0.000006\n"
     ]
    },
    {
     "data": {
      "image/png": "[encoded data removed]",
      "text/plain": [
       "<Figure size 432x288 with 1 Axes>"
      ]
     },
     "metadata": {
      "needs_background": "light"
     },
     "output_type": "display_data"
    },
    {
     "name": "stdout",
     "output_type": "stream",
     "text": [
      "start graph based slam\n",
      "cost: 918437.7088115506 ,n_edge: 3900\n",
      "iteration: 1, diff: 347.666180\n",
      "cost: 2447.9624137056385 ,n_edge: 3900\n",
      "iteration: 2, diff: 0.356558\n",
      "cost: 493.5096358050289 ,n_edge: 3900\n",
      "iteration: 3, diff: 0.000085\n",
      "cost: 493.5095760662217 ,n_edge: 3900\n",
      "iteration: 4, diff: 0.000001\n"
     ]
    },
    {
     "data": {
      "image/png": "[encoded data removed]",
      "text/plain": [
       "<Figure size 432x288 with 1 Axes>"
      ]
     },
     "metadata": {
      "needs_background": "light"
     },
     "output_type": "display_data"
    },
    {
     "name": "stdout",
     "output_type": "stream",
     "text": [
      "start graph based slam\n",
      "cost: 1330928.2682878273 ,n_edge: 6125\n",
      "iteration: 1, diff: 423.585811\n",
      "cost: 3575.500366031588 ,n_edge: 6125\n",
      "iteration: 2, diff: 0.460052\n",
      "cost: 762.9252074698294 ,n_edge: 6125\n",
      "iteration: 3, diff: 0.000047\n",
      "cost: 762.9251741751565 ,n_edge: 6125\n",
      "iteration: 4, diff: 0.000001\n"
     ]
    },
    {
     "data": {
      "image/png": "[encoded data removed]",
      "text/plain": [
       "<Figure size 432x288 with 1 Axes>"
      ]
     },
     "metadata": {
      "needs_background": "light"
     },
     "output_type": "display_data"
    }
   ],
   "source": [
    "def main():\n",
    "    print(\"__file__\" + \" start!!\")\n",
    "\n",
    "    time = 0.0\n",
    "\n",
    "    #ランドマーク\n",
    "    # RFID positions [x, y, yaw]\n",
    "    RFID = np.array([[10.0, -2.0, 0.0],\n",
    "                     [15.0, 10.0, 0.0],\n",
    "                     [3.0, 15.0, 0.0],\n",
    "                     [-5.0, 20.0, 0.0],\n",
    "                     [-5.0, 5.0, 0.0]\n",
    "                     ])\n",
    "    \n",
    "    #STATE_SIZE　=　3　姿勢は3次元\n",
    "    # State Vector [x y yaw v]'\n",
    "    xTrue = np.zeros((STATE_SIZE, 1)) #真値\n",
    "    xDR = np.zeros((STATE_SIZE, 1))  # Dead reckoning\n",
    "\n",
    "    #履歴\n",
    "    # history\n",
    "    hxTrue = []\n",
    "    hxDR = []\n",
    "    hz = []\n",
    "    d_time = 0.0\n",
    "    init = False\n",
    "    \n",
    "    while SIM_TIME >= time:\n",
    "\n",
    "        #初期化設定\n",
    "        if not init:\n",
    "            #初回の履歴に真値を代入\n",
    "            hxTrue = xTrue\n",
    "            hxDR = xTrue\n",
    "            init = True\n",
    "            \n",
    "        else:\n",
    "            #オドメドリを前回値に横に結合　https://deepage.net/features/numpy-stack.html\n",
    "            hxDR = np.hstack((hxDR, xDR))\n",
    "            hxTrue = np.hstack((hxTrue, xTrue))\n",
    "\n",
    "        time += DT\n",
    "        d_time += DT\n",
    "        #車両の走行情報\n",
    "        u = calc_input()\n",
    "        \n",
    "        #引数：　真値　オドメドリ　車両走行情報　ランドマーク\n",
    "        #戻り値　：　真値　ランドマーク情報（その周期で観測したもののみ）　オドメドリ（誤差あり）　車両の移動ベクトル(誤差あり）\n",
    "        xTrue, z, xDR, ud = observation(xTrue, xDR, u, RFID)\n",
    "        \n",
    "        #ランドマーク情報を追加　リスト型\n",
    "        hz.append(z)\n",
    "\n",
    "        #時間の刻みが一定期間超えたらグラフSLAMを行う。\n",
    "        if d_time >= show_graph_d_time:\n",
    "            \"\"\"\n",
    "             引数　オドメドリ\n",
    "             \n",
    "             ランドマーク情報(dn:機台かランドマークまでの距離, \n",
    "                             angle：機台角度とランドマークの角度の角度差, \n",
    "                             phi:機台から見たランドマークの角度\n",
    "                             i:何番目のランドマークか)\n",
    "            \"\"\"\n",
    "           \n",
    "            x_opt = graph_based_slam(hxDR, hz)\n",
    "            d_time = 0.0\n",
    "\n",
    "            if show_animation:  # pragma: no cover\n",
    "                plt.cla()\n",
    "                # for stopping simulation with the esc key.\n",
    "                plt.gcf().canvas.mpl_connect(\n",
    "                    'key_release_event',\n",
    "                    lambda event: [exit(0) if event.key == 'escape' else None])\n",
    "                plt.plot(RFID[:, 0], RFID[:, 1], \"*k\")\n",
    "\n",
    "                plt.plot(hxTrue[0, :].flatten(),\n",
    "                         hxTrue[1, :].flatten(), \"-b\")\n",
    "                plt.plot(hxDR[0, :].flatten(),\n",
    "                         hxDR[1, :].flatten(), \"-k\")\n",
    "                plt.plot(x_opt[0, :].flatten(),\n",
    "                         x_opt[1, :].flatten(), \"-r\")\n",
    "                plt.axis(\"equal\")\n",
    "                plt.grid(True)\n",
    "                plt.title(\"Time\" + str(time)[0:5])\n",
    "                plt.pause(1.0)\n",
    "\n",
    "\n",
    "if __name__ == '__main__':\n",
    "    main()"
   ]
  },
  {
   "cell_type": "code",
   "execution_count": 36,
   "metadata": {},
   "outputs": [
    {
     "data": {
      "text/plain": [
       "array([[1. ],\n",
       "       [0.1]])"
      ]
     },
     "execution_count": 36,
     "metadata": {},
     "output_type": "execute_result"
    }
   ],
   "source": [
    "v = 1.0  # [m/s]\n",
    "yaw_rate = 0.1  # [rad/s]\n",
    "u = np.array([[v, yaw_rate]]).T\n",
    "u"
   ]
  },
  {
   "cell_type": "code",
   "execution_count": 37,
   "metadata": {},
   "outputs": [
    {
     "data": {
      "text/plain": [
       "array([], shape=(0, 4), dtype=float64)"
      ]
     },
     "execution_count": 37,
     "metadata": {},
     "output_type": "execute_result"
    }
   ],
   "source": [
    "z = np.zeros((0, 4))\n",
    "z"
   ]
  },
  {
   "cell_type": "code",
   "execution_count": 39,
   "metadata": {},
   "outputs": [
    {
     "name": "stdout",
     "output_type": "stream",
     "text": [
      "[]\n"
     ]
    }
   ],
   "source": [
    "print(z)"
   ]
  },
  {
   "cell_type": "code",
   "execution_count": 4,
   "metadata": {},
   "outputs": [
    {
     "data": {
      "text/plain": [
       "array([[5, 2, 3, 4],\n",
       "       [1, 2, 3, 4]])"
      ]
     },
     "execution_count": 4,
     "metadata": {},
     "output_type": "execute_result"
    }
   ],
   "source": [
    "z = np.array([5,2,3,4])\n",
    "zi = np.array([1,2,3,4])\n",
    "z = np.vstack((z, zi))\n",
    "z"
   ]
  },
  {
   "cell_type": "code",
   "execution_count": 5,
   "metadata": {},
   "outputs": [
    {
     "data": {
      "text/plain": [
       "[]"
      ]
     },
     "execution_count": 5,
     "metadata": {},
     "output_type": "execute_result"
    }
   ],
   "source": [
    "hz=[]\n",
    "hz"
   ]
  },
  {
   "cell_type": "code",
   "execution_count": 8,
   "metadata": {},
   "outputs": [],
   "source": [
    "hz.append(z)"
   ]
  },
  {
   "cell_type": "code",
   "execution_count": 11,
   "metadata": {},
   "outputs": [
    {
     "data": {
      "text/plain": [
       "array([[5, 2, 3, 4],\n",
       "       [1, 2, 3, 4]])"
      ]
     },
     "execution_count": 11,
     "metadata": {},
     "output_type": "execute_result"
    }
   ],
   "source": [
    "hz[1]"
   ]
  },
  {
   "cell_type": "code",
   "execution_count": 12,
   "metadata": {},
   "outputs": [],
   "source": [
    " z_list = copy.deepcopy(hz)"
   ]
  },
  {
   "cell_type": "code",
   "execution_count": 15,
   "metadata": {},
   "outputs": [
    {
     "ename": "AttributeError",
     "evalue": "'list' object has no attribute 'shape'",
     "output_type": "error",
     "traceback": [
      "\u001b[1;31m---------------------------------------------------------------------------\u001b[0m",
      "\u001b[1;31mAttributeError\u001b[0m                            Traceback (most recent call last)",
      "\u001b[1;32m<ipython-input-15-9b6a75a332f8>\u001b[0m in \u001b[0;36m<module>\u001b[1;34m\u001b[0m\n\u001b[1;32m----> 1\u001b[1;33m \u001b[0mz_list\u001b[0m\u001b[1;33m.\u001b[0m\u001b[0mshape\u001b[0m\u001b[1;33m[\u001b[0m\u001b[1;36m1\u001b[0m\u001b[1;33m]\u001b[0m\u001b[1;33m\u001b[0m\u001b[1;33m\u001b[0m\u001b[0m\n\u001b[0m",
      "\u001b[1;31mAttributeError\u001b[0m: 'list' object has no attribute 'shape'"
     ]
    }
   ],
   "source": [
    "z_list.shape[1]\n"
   ]
  },
  {
   "cell_type": "code",
   "execution_count": 21,
   "metadata": {},
   "outputs": [
    {
     "ename": "AttributeError",
     "evalue": "'list' object has no attribute 'T'",
     "output_type": "error",
     "traceback": [
      "\u001b[1;31m---------------------------------------------------------------------------\u001b[0m",
      "\u001b[1;31mAttributeError\u001b[0m                            Traceback (most recent call last)",
      "\u001b[1;32m<ipython-input-21-bb2d5fd19011>\u001b[0m in \u001b[0;36m<module>\u001b[1;34m\u001b[0m\n\u001b[1;32m----> 1\u001b[1;33m \u001b[0mz_list\u001b[0m\u001b[1;33m=\u001b[0m\u001b[1;33m(\u001b[0m\u001b[1;33m[\u001b[0m\u001b[1;33m[\u001b[0m\u001b[1;36m1\u001b[0m\u001b[1;33m,\u001b[0m\u001b[1;36m2\u001b[0m\u001b[1;33m,\u001b[0m\u001b[1;36m3\u001b[0m\u001b[1;33m]\u001b[0m\u001b[1;33m]\u001b[0m\u001b[1;33m.\u001b[0m\u001b[0mT\u001b[0m\u001b[1;33m)\u001b[0m\u001b[1;33m\u001b[0m\u001b[1;33m\u001b[0m\u001b[0m\n\u001b[0m",
      "\u001b[1;31mAttributeError\u001b[0m: 'list' object has no attribute 'T'"
     ]
    }
   ],
   "source": []
  },
  {
   "cell_type": "code",
   "execution_count": 19,
   "metadata": {},
   "outputs": [
    {
     "data": {
      "text/plain": [
       "[[1, 2]]"
      ]
     },
     "execution_count": 19,
     "metadata": {},
     "output_type": "execute_result"
    }
   ],
   "source": [
    "z_list"
   ]
  },
  {
   "cell_type": "code",
   "execution_count": 47,
   "metadata": {},
   "outputs": [
    {
     "data": {
      "text/plain": [
       "range(0, 10)"
      ]
     },
     "execution_count": 47,
     "metadata": {},
     "output_type": "execute_result"
    }
   ],
   "source": [
    "range(10)"
   ]
  },
  {
   "cell_type": "code",
   "execution_count": 48,
   "metadata": {},
   "outputs": [
    {
     "name": "stdout",
     "output_type": "stream",
     "text": [
      "0\n",
      "1\n",
      "2\n",
      "3\n",
      "4\n",
      "5\n",
      "6\n",
      "7\n",
      "8\n",
      "9\n"
     ]
    }
   ],
   "source": [
    "for i in range(10):\n",
    "    print(i)"
   ]
  },
  {
   "cell_type": "code",
   "execution_count": 49,
   "metadata": {},
   "outputs": [
    {
     "data": {
      "text/plain": [
       "[(0, 1, 2),\n",
       " (0, 1, 3),\n",
       " (0, 1, 4),\n",
       " (0, 1, 5),\n",
       " (0, 1, 6),\n",
       " (0, 1, 7),\n",
       " (0, 1, 8),\n",
       " (0, 1, 9),\n",
       " (0, 2, 3),\n",
       " (0, 2, 4),\n",
       " (0, 2, 5),\n",
       " (0, 2, 6),\n",
       " (0, 2, 7),\n",
       " (0, 2, 8),\n",
       " (0, 2, 9),\n",
       " (0, 3, 4),\n",
       " (0, 3, 5),\n",
       " (0, 3, 6),\n",
       " (0, 3, 7),\n",
       " (0, 3, 8),\n",
       " (0, 3, 9),\n",
       " (0, 4, 5),\n",
       " (0, 4, 6),\n",
       " (0, 4, 7),\n",
       " (0, 4, 8),\n",
       " (0, 4, 9),\n",
       " (0, 5, 6),\n",
       " (0, 5, 7),\n",
       " (0, 5, 8),\n",
       " (0, 5, 9),\n",
       " (0, 6, 7),\n",
       " (0, 6, 8),\n",
       " (0, 6, 9),\n",
       " (0, 7, 8),\n",
       " (0, 7, 9),\n",
       " (0, 8, 9),\n",
       " (1, 2, 3),\n",
       " (1, 2, 4),\n",
       " (1, 2, 5),\n",
       " (1, 2, 6),\n",
       " (1, 2, 7),\n",
       " (1, 2, 8),\n",
       " (1, 2, 9),\n",
       " (1, 3, 4),\n",
       " (1, 3, 5),\n",
       " (1, 3, 6),\n",
       " (1, 3, 7),\n",
       " (1, 3, 8),\n",
       " (1, 3, 9),\n",
       " (1, 4, 5),\n",
       " (1, 4, 6),\n",
       " (1, 4, 7),\n",
       " (1, 4, 8),\n",
       " (1, 4, 9),\n",
       " (1, 5, 6),\n",
       " (1, 5, 7),\n",
       " (1, 5, 8),\n",
       " (1, 5, 9),\n",
       " (1, 6, 7),\n",
       " (1, 6, 8),\n",
       " (1, 6, 9),\n",
       " (1, 7, 8),\n",
       " (1, 7, 9),\n",
       " (1, 8, 9),\n",
       " (2, 3, 4),\n",
       " (2, 3, 5),\n",
       " (2, 3, 6),\n",
       " (2, 3, 7),\n",
       " (2, 3, 8),\n",
       " (2, 3, 9),\n",
       " (2, 4, 5),\n",
       " (2, 4, 6),\n",
       " (2, 4, 7),\n",
       " (2, 4, 8),\n",
       " (2, 4, 9),\n",
       " (2, 5, 6),\n",
       " (2, 5, 7),\n",
       " (2, 5, 8),\n",
       " (2, 5, 9),\n",
       " (2, 6, 7),\n",
       " (2, 6, 8),\n",
       " (2, 6, 9),\n",
       " (2, 7, 8),\n",
       " (2, 7, 9),\n",
       " (2, 8, 9),\n",
       " (3, 4, 5),\n",
       " (3, 4, 6),\n",
       " (3, 4, 7),\n",
       " (3, 4, 8),\n",
       " (3, 4, 9),\n",
       " (3, 5, 6),\n",
       " (3, 5, 7),\n",
       " (3, 5, 8),\n",
       " (3, 5, 9),\n",
       " (3, 6, 7),\n",
       " (3, 6, 8),\n",
       " (3, 6, 9),\n",
       " (3, 7, 8),\n",
       " (3, 7, 9),\n",
       " (3, 8, 9),\n",
       " (4, 5, 6),\n",
       " (4, 5, 7),\n",
       " (4, 5, 8),\n",
       " (4, 5, 9),\n",
       " (4, 6, 7),\n",
       " (4, 6, 8),\n",
       " (4, 6, 9),\n",
       " (4, 7, 8),\n",
       " (4, 7, 9),\n",
       " (4, 8, 9),\n",
       " (5, 6, 7),\n",
       " (5, 6, 8),\n",
       " (5, 6, 9),\n",
       " (5, 7, 8),\n",
       " (5, 7, 9),\n",
       " (5, 8, 9),\n",
       " (6, 7, 8),\n",
       " (6, 7, 9),\n",
       " (6, 8, 9),\n",
       " (7, 8, 9)]"
      ]
     },
     "execution_count": 49,
     "metadata": {},
     "output_type": "execute_result"
    }
   ],
   "source": [
    "list(itertools.combinations(range(0,10), 3))"
   ]
  },
  {
   "cell_type": "code",
   "execution_count": 53,
   "metadata": {},
   "outputs": [],
   "source": [
    "    Rt = np.matrix([[11, 12, 13],\n",
    "                    [21, 22, 23],\n",
    "                    [31, 32, 33]])"
   ]
  },
  {
   "cell_type": "code",
   "execution_count": 54,
   "metadata": {},
   "outputs": [
    {
     "data": {
      "text/plain": [
       "matrix([[11, 12, 13],\n",
       "        [21, 22, 23],\n",
       "        [31, 32, 33]])"
      ]
     },
     "execution_count": 54,
     "metadata": {},
     "output_type": "execute_result"
    }
   ],
   "source": [
    "Rt"
   ]
  },
  {
   "cell_type": "code",
   "execution_count": 55,
   "metadata": {},
   "outputs": [
    {
     "data": {
      "text/plain": [
       "matrix([[11, 21, 31],\n",
       "        [12, 22, 32],\n",
       "        [13, 23, 33]])"
      ]
     },
     "execution_count": 55,
     "metadata": {},
     "output_type": "execute_result"
    }
   ],
   "source": [
    "Rt.T"
   ]
  },
  {
   "cell_type": "code",
   "execution_count": 56,
   "metadata": {},
   "outputs": [],
   "source": [
    "def calc_rotational_matrix(angle):\n",
    "    \n",
    "    \"\"\"\n",
    "    Rt = np.matrix([[math.cos(angle), -math.sin(angle), 0],\n",
    "                    [math.sin(angle), math.cos(angle), 0],\n",
    "                    [0, 0, 1.0]])\n",
    "    \"\"\"\n",
    "    \n",
    "    return Rot.from_euler('z', angle).as_matrix()"
   ]
  },
  {
   "cell_type": "code",
   "execution_count": 57,
   "metadata": {},
   "outputs": [],
   "source": [
    "a = calc_rotational_matrix(45)"
   ]
  },
  {
   "cell_type": "code",
   "execution_count": 58,
   "metadata": {},
   "outputs": [
    {
     "data": {
      "text/plain": [
       "array([[ 0.52532199, -0.85090352, -0.        ],\n",
       "       [ 0.85090352,  0.52532199,  0.        ],\n",
       "       [ 0.        , -0.        ,  1.        ]])"
      ]
     },
     "execution_count": 58,
     "metadata": {},
     "output_type": "execute_result"
    }
   ],
   "source": [
    "a"
   ]
  },
  {
   "cell_type": "code",
   "execution_count": 60,
   "metadata": {},
   "outputs": [
    {
     "data": {
      "text/plain": [
       "6556.0"
      ]
     },
     "execution_count": 60,
     "metadata": {},
     "output_type": "execute_result"
    }
   ],
   "source": [
    "3980*2*1.1-2200"
   ]
  },
  {
   "cell_type": "code",
   "execution_count": null,
   "metadata": {},
   "outputs": [],
   "source": []
  }
 ],
 "metadata": {
  "kernelspec": {
   "display_name": "Python 3",
   "language": "python",
   "name": "python3"
  },
  "language_info": {
   "codemirror_mode": {
    "name": "ipython",
    "version": 3
   },
   "file_extension": ".py",
   "mimetype": "text/x-python",
   "name": "python",
   "nbconvert_exporter": "python",
   "pygments_lexer": "ipython3",
   "version": "3.7.6"
  }
 },
 "nbformat": 4,
 "nbformat_minor": 4
}
